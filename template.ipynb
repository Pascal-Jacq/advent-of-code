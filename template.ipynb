{
 "cells": [
  {
   "cell_type": "code",
   "execution_count": null,
   "metadata": {},
   "outputs": [],
   "source": [
    "##########################################\n",
    "# Starter cell : do not edit just run it #\n",
    "##########################################\n",
    "from advent import Advent\n",
    "\n",
    "# Create an api object to interact with the website\n",
    "api = Advent()\n",
    "api.download_problem()\n",
    "\n",
    "# You can not play twice !\n",
    "if api.success:\n",
    "    print(100*\"-\")\n",
    "    print(api.contents[\"success\"])\n",
    "    print(100*\"-\")\n",
    "    api.display_personal_stats()\n",
    "    api.display_leaderboards()\n",
    "    raise RuntimeError(\"You already finished this one\")\n",
    "\n",
    "# Retrieve your inputs\n",
    "input = api.input\n",
    "lines = input.splitlines()\n",
    "\n",
    "# Display first part of the problem\n",
    "api.pretty_display(0)\n",
    "# Show first lines of data\n",
    "print(\"Head of input file\")\n",
    "print(100*\"-\")\n",
    "print(\"\\n\".join(lines[:15]))\n",
    "print(100*\"-\")"
   ]
  },
  {
   "cell_type": "code",
   "execution_count": null,
   "metadata": {},
   "outputs": [],
   "source": [
    "##################################\n",
    "# Put your code for level 1 here #\n",
    "##################################\n",
    "answer = 0\n",
    "raise NotImplementedError # Replace this one by your own implementation\n",
    "print(answer)"
   ]
  },
  {
   "cell_type": "code",
   "execution_count": null,
   "metadata": {},
   "outputs": [],
   "source": [
    "###################################\n",
    "# Answering level 1 : do not edit #\n",
    "###################################\n",
    "if api.level == 1: # Do not post the answer if already posted\n",
    "    api.post(answer)\n",
    "    api.pretty_display()\n",
    "    # Retrieve second part of the problem\n",
    "    api.download_problem()\n",
    "    assert api.level == 2, \"Finish level 1 first!\"\n",
    "# Show second part of the problem\n",
    "api.pretty_display()"
   ]
  },
  {
   "cell_type": "code",
   "execution_count": null,
   "metadata": {},
   "outputs": [],
   "source": [
    "##################################\n",
    "# Put your code for level 2 here #\n",
    "##################################\n",
    "answer = 0\n",
    "raise NotImplementedError # Replace this one by your own implementation\n",
    "print(answer)"
   ]
  },
  {
   "cell_type": "code",
   "execution_count": null,
   "metadata": {},
   "outputs": [],
   "source": [
    "###################################\n",
    "# Answering level 2 : do not edit #\n",
    "###################################\n",
    "api.post(answer)\n",
    "api.pretty_display()\n",
    "# Finally check if you were sucessfull\n",
    "api.download_problem()\n",
    "if not api.success:\n",
    "    raise RuntimeError(\"Go back answering level 2...\")\n",
    "api.display_personal_stats()\n",
    "api.display_leaderboards()"
   ]
  }
 ],
 "metadata": {
  "kernelspec": {
   "display_name": "Python 3 (ipykernel)",
   "language": "python",
   "name": "python3"
  },
  "language_info": {
   "name": "python",
   "version": "3.11.0 (main, Nov 15 2022, 20:12:54) [GCC 10.2.1 20210110]"
  },
  "orig_nbformat": 4,
  "vscode": {
   "interpreter": {
    "hash": "949777d72b0d2535278d3dc13498b2535136f6dfe0678499012e853ee9abcab1"
   }
  }
 },
 "nbformat": 4,
 "nbformat_minor": 2
}
